{
 "cells": [
  {
   "cell_type": "code",
   "execution_count": 17,
   "metadata": {
    "collapsed": true
   },
   "outputs": [],
   "source": [
    "##Setup\n",
    "\n",
    "import pandas as pd\n",
    "from sklearn import tree\n",
    "from sklearn.datasets import load_boston\n",
    "from sklearn.cross_validation import train_test_split\n",
    "from sklearn.preprocessing import scale\n",
    "from sklearn.neighbors import KNeighborsRegressor\n",
    "from sklearn.metrics import mean_squared_error\n",
    "from sklearn.cross_validation import KFold\n",
    "import matplotlib.pyplot as plt\n",
    "import numpy as np\n",
    "%matplotlib inline\n",
    "\n",
    "\n"
   ]
  },
  {
   "cell_type": "code",
   "execution_count": 13,
   "metadata": {
    "collapsed": false
   },
   "outputs": [],
   "source": [
    "# read data\n",
    "df = pd.read_csv('./BloodDonationSubmissionFormat.csv')"
   ]
  },
  {
   "cell_type": "code",
   "execution_count": 14,
   "metadata": {
    "collapsed": false
   },
   "outputs": [],
   "source": [
    "features = df.drop('Made Donation in March 2007', axis=1)\n",
    "outcome = df['Made Donation in March 2007'].squeeze()\n"
   ]
  },
  {
   "cell_type": "code",
   "execution_count": 15,
   "metadata": {
    "collapsed": false
   },
   "outputs": [],
   "source": [
    "train_features, test_features, train_outcome, test_outcome = train_test_split(features, outcome, test_size=0.30)"
   ]
  },
  {
   "cell_type": "code",
   "execution_count": 18,
   "metadata": {
    "collapsed": false
   },
   "outputs": [
    {
     "ename": "ValueError",
     "evalue": "Unknown label type: array([[ 0.5],\n       [ 0.5],\n       [ 0.5],\n       [ 0.5],\n       [ 0.5],\n       [ 0.5],\n       [ 0.5],\n       [ 0.5],\n       [ 0.5],\n       [ 0.5],\n       [ 0.5],\n       [ 0.5],\n       [ 0.5],\n       [ 0.5],\n       [ 0.5],\n       [ 0.5],\n       [ 0.5],\n       [ 0.5],\n       [ 0.5],\n       [ 0.5],\n       [ 0.5],\n       [ 0.5],\n       [ 0.5],\n       [ 0.5],\n       [ 0.5],\n       [ 0.5],\n       [ 0.5],\n       [ 0.5],\n       [ 0.5],\n       [ 0.5],\n       [ 0.5],\n       [ 0.5],\n       [ 0.5],\n       [ 0.5],\n       [ 0.5],\n       [ 0.5],\n       [ 0.5],\n       [ 0.5],\n       [ 0.5],\n       [ 0.5],\n       [ 0.5],\n       [ 0.5],\n       [ 0.5],\n       [ 0.5],\n       [ 0.5],\n       [ 0.5],\n       [ 0.5],\n       [ 0.5],\n       [ 0.5],\n       [ 0.5],\n       [ 0.5],\n       [ 0.5],\n       [ 0.5],\n       [ 0.5],\n       [ 0.5],\n       [ 0.5],\n       [ 0.5],\n       [ 0.5],\n       [ 0.5],\n       [ 0.5],\n       [ 0.5],\n       [ 0.5],\n       [ 0.5],\n       [ 0.5],\n       [ 0.5],\n       [ 0.5],\n       [ 0.5],\n       [ 0.5],\n       [ 0.5],\n       [ 0.5],\n       [ 0.5],\n       [ 0.5],\n       [ 0.5],\n       [ 0.5],\n       [ 0.5],\n       [ 0.5],\n       [ 0.5],\n       [ 0.5],\n       [ 0.5],\n       [ 0.5],\n       [ 0.5],\n       [ 0.5],\n       [ 0.5],\n       [ 0.5],\n       [ 0.5],\n       [ 0.5],\n       [ 0.5],\n       [ 0.5],\n       [ 0.5],\n       [ 0.5],\n       [ 0.5],\n       [ 0.5],\n       [ 0.5],\n       [ 0.5],\n       [ 0.5],\n       [ 0.5],\n       [ 0.5],\n       [ 0.5],\n       [ 0.5],\n       [ 0.5],\n       [ 0.5],\n       [ 0.5],\n       [ 0.5],\n       [ 0.5],\n       [ 0.5],\n       [ 0.5],\n       [ 0.5],\n       [ 0.5],\n       [ 0.5],\n       [ 0.5],\n       [ 0.5],\n       [ 0.5],\n       [ 0.5],\n       [ 0.5],\n       [ 0.5],\n       [ 0.5],\n       [ 0.5],\n       [ 0.5],\n       [ 0.5],\n       [ 0.5],\n       [ 0.5],\n       [ 0.5],\n       [ 0.5],\n       [ 0.5],\n       [ 0.5],\n       [ 0.5],\n       [ 0.5],\n       [ 0.5],\n       [ 0.5],\n       [ 0.5],\n       [ 0.5],\n       [ 0.5],\n       [ 0.5],\n       [ 0.5],\n       [ 0.5],\n       [ 0.5],\n       [ 0.5],\n       [ 0.5],\n       [ 0.5],\n       [ 0.5]])",
     "output_type": "error",
     "traceback": [
      "\u001b[0;31m---------------------------------------------------------------------------\u001b[0m",
      "\u001b[0;31mValueError\u001b[0m                                Traceback (most recent call last)",
      "\u001b[0;32m<ipython-input-18-321e5f5b3cb3>\u001b[0m in \u001b[0;36m<module>\u001b[0;34m()\u001b[0m\n\u001b[1;32m      1\u001b[0m \u001b[0mclf\u001b[0m \u001b[0;34m=\u001b[0m \u001b[0mtree\u001b[0m\u001b[0;34m.\u001b[0m\u001b[0mDecisionTreeClassifier\u001b[0m\u001b[0;34m(\u001b[0m\u001b[0;34m)\u001b[0m\u001b[0;34m\u001b[0m\u001b[0m\n\u001b[0;32m----> 2\u001b[0;31m \u001b[0mclf\u001b[0m \u001b[0;34m=\u001b[0m \u001b[0mclf\u001b[0m\u001b[0;34m.\u001b[0m\u001b[0mfit\u001b[0m\u001b[0;34m(\u001b[0m\u001b[0mtrain_features\u001b[0m\u001b[0;34m,\u001b[0m \u001b[0mtrain_outcome\u001b[0m\u001b[0;34m)\u001b[0m\u001b[0;34m\u001b[0m\u001b[0m\n\u001b[0m",
      "\u001b[0;32m/Users/huijie/anaconda/lib/python3.5/site-packages/sklearn/tree/tree.py\u001b[0m in \u001b[0;36mfit\u001b[0;34m(self, X, y, sample_weight, check_input, X_idx_sorted)\u001b[0m\n\u001b[1;32m    175\u001b[0m \u001b[0;34m\u001b[0m\u001b[0m\n\u001b[1;32m    176\u001b[0m         \u001b[0;32mif\u001b[0m \u001b[0mis_classification\u001b[0m\u001b[0;34m:\u001b[0m\u001b[0;34m\u001b[0m\u001b[0m\n\u001b[0;32m--> 177\u001b[0;31m             \u001b[0mcheck_classification_targets\u001b[0m\u001b[0;34m(\u001b[0m\u001b[0my\u001b[0m\u001b[0;34m)\u001b[0m\u001b[0;34m\u001b[0m\u001b[0m\n\u001b[0m\u001b[1;32m    178\u001b[0m             \u001b[0my\u001b[0m \u001b[0;34m=\u001b[0m \u001b[0mnp\u001b[0m\u001b[0;34m.\u001b[0m\u001b[0mcopy\u001b[0m\u001b[0;34m(\u001b[0m\u001b[0my\u001b[0m\u001b[0;34m)\u001b[0m\u001b[0;34m\u001b[0m\u001b[0m\n\u001b[1;32m    179\u001b[0m \u001b[0;34m\u001b[0m\u001b[0m\n",
      "\u001b[0;32m/Users/huijie/anaconda/lib/python3.5/site-packages/sklearn/utils/multiclass.py\u001b[0m in \u001b[0;36mcheck_classification_targets\u001b[0;34m(y)\u001b[0m\n\u001b[1;32m    171\u001b[0m     if y_type not in ['binary', 'multiclass', 'multiclass-multioutput', \n\u001b[1;32m    172\u001b[0m             'multilabel-indicator', 'multilabel-sequences']:\n\u001b[0;32m--> 173\u001b[0;31m         \u001b[0;32mraise\u001b[0m \u001b[0mValueError\u001b[0m\u001b[0;34m(\u001b[0m\u001b[0;34m\"Unknown label type: %r\"\u001b[0m \u001b[0;34m%\u001b[0m \u001b[0my\u001b[0m\u001b[0;34m)\u001b[0m\u001b[0;34m\u001b[0m\u001b[0m\n\u001b[0m\u001b[1;32m    174\u001b[0m \u001b[0;34m\u001b[0m\u001b[0m\n\u001b[1;32m    175\u001b[0m \u001b[0;34m\u001b[0m\u001b[0m\n",
      "\u001b[0;31mValueError\u001b[0m: Unknown label type: array([[ 0.5],\n       [ 0.5],\n       [ 0.5],\n       [ 0.5],\n       [ 0.5],\n       [ 0.5],\n       [ 0.5],\n       [ 0.5],\n       [ 0.5],\n       [ 0.5],\n       [ 0.5],\n       [ 0.5],\n       [ 0.5],\n       [ 0.5],\n       [ 0.5],\n       [ 0.5],\n       [ 0.5],\n       [ 0.5],\n       [ 0.5],\n       [ 0.5],\n       [ 0.5],\n       [ 0.5],\n       [ 0.5],\n       [ 0.5],\n       [ 0.5],\n       [ 0.5],\n       [ 0.5],\n       [ 0.5],\n       [ 0.5],\n       [ 0.5],\n       [ 0.5],\n       [ 0.5],\n       [ 0.5],\n       [ 0.5],\n       [ 0.5],\n       [ 0.5],\n       [ 0.5],\n       [ 0.5],\n       [ 0.5],\n       [ 0.5],\n       [ 0.5],\n       [ 0.5],\n       [ 0.5],\n       [ 0.5],\n       [ 0.5],\n       [ 0.5],\n       [ 0.5],\n       [ 0.5],\n       [ 0.5],\n       [ 0.5],\n       [ 0.5],\n       [ 0.5],\n       [ 0.5],\n       [ 0.5],\n       [ 0.5],\n       [ 0.5],\n       [ 0.5],\n       [ 0.5],\n       [ 0.5],\n       [ 0.5],\n       [ 0.5],\n       [ 0.5],\n       [ 0.5],\n       [ 0.5],\n       [ 0.5],\n       [ 0.5],\n       [ 0.5],\n       [ 0.5],\n       [ 0.5],\n       [ 0.5],\n       [ 0.5],\n       [ 0.5],\n       [ 0.5],\n       [ 0.5],\n       [ 0.5],\n       [ 0.5],\n       [ 0.5],\n       [ 0.5],\n       [ 0.5],\n       [ 0.5],\n       [ 0.5],\n       [ 0.5],\n       [ 0.5],\n       [ 0.5],\n       [ 0.5],\n       [ 0.5],\n       [ 0.5],\n       [ 0.5],\n       [ 0.5],\n       [ 0.5],\n       [ 0.5],\n       [ 0.5],\n       [ 0.5],\n       [ 0.5],\n       [ 0.5],\n       [ 0.5],\n       [ 0.5],\n       [ 0.5],\n       [ 0.5],\n       [ 0.5],\n       [ 0.5],\n       [ 0.5],\n       [ 0.5],\n       [ 0.5],\n       [ 0.5],\n       [ 0.5],\n       [ 0.5],\n       [ 0.5],\n       [ 0.5],\n       [ 0.5],\n       [ 0.5],\n       [ 0.5],\n       [ 0.5],\n       [ 0.5],\n       [ 0.5],\n       [ 0.5],\n       [ 0.5],\n       [ 0.5],\n       [ 0.5],\n       [ 0.5],\n       [ 0.5],\n       [ 0.5],\n       [ 0.5],\n       [ 0.5],\n       [ 0.5],\n       [ 0.5],\n       [ 0.5],\n       [ 0.5],\n       [ 0.5],\n       [ 0.5],\n       [ 0.5],\n       [ 0.5],\n       [ 0.5],\n       [ 0.5],\n       [ 0.5],\n       [ 0.5],\n       [ 0.5],\n       [ 0.5],\n       [ 0.5],\n       [ 0.5]])"
     ]
    }
   ],
   "source": [
    "clf = tree.DecisionTreeClassifier()\n",
    "clf = clf.fit(train_features, train_outcome)"
   ]
  },
  {
   "cell_type": "code",
   "execution_count": 10,
   "metadata": {
    "collapsed": false
   },
   "outputs": [
    {
     "ename": "NameError",
     "evalue": "name 'clf' is not defined",
     "output_type": "error",
     "traceback": [
      "\u001b[0;31m---------------------------------------------------------------------------\u001b[0m",
      "\u001b[0;31mNameError\u001b[0m                                 Traceback (most recent call last)",
      "\u001b[0;32m<ipython-input-10-34945e7562ce>\u001b[0m in \u001b[0;36m<module>\u001b[0;34m()\u001b[0m\n\u001b[0;32m----> 1\u001b[0;31m \u001b[0mtest_preds\u001b[0m \u001b[0;34m=\u001b[0m \u001b[0mclf\u001b[0m\u001b[0;34m.\u001b[0m\u001b[0mpredict\u001b[0m\u001b[0;34m(\u001b[0m\u001b[0mtest_features\u001b[0m\u001b[0;34m)\u001b[0m\u001b[0;34m\u001b[0m\u001b[0m\n\u001b[0m",
      "\u001b[0;31mNameError\u001b[0m: name 'clf' is not defined"
     ]
    }
   ],
   "source": [
    "test_preds = clf.predict(test_features)"
   ]
  },
  {
   "cell_type": "code",
   "execution_count": 11,
   "metadata": {
    "collapsed": false
   },
   "outputs": [
    {
     "ename": "NameError",
     "evalue": "name 'test_preds' is not defined",
     "output_type": "error",
     "traceback": [
      "\u001b[0;31m---------------------------------------------------------------------------\u001b[0m",
      "\u001b[0;31mNameError\u001b[0m                                 Traceback (most recent call last)",
      "\u001b[0;32m<ipython-input-11-6820758dcaf8>\u001b[0m in \u001b[0;36m<module>\u001b[0;34m()\u001b[0m\n\u001b[0;32m----> 1\u001b[0;31m \u001b[0mtest_acc\u001b[0m \u001b[0;34m=\u001b[0m \u001b[0;34m(\u001b[0m\u001b[0mtest_preds\u001b[0m \u001b[0;34m==\u001b[0m \u001b[0mtest_outcome\u001b[0m\u001b[0;34m)\u001b[0m\u001b[0;34m.\u001b[0m\u001b[0msum\u001b[0m\u001b[0;34m(\u001b[0m\u001b[0;34m)\u001b[0m\u001b[0;34m/\u001b[0m\u001b[0mlen\u001b[0m\u001b[0;34m(\u001b[0m\u001b[0mtest_outcome\u001b[0m\u001b[0;34m)\u001b[0m\u001b[0;34m\u001b[0m\u001b[0m\n\u001b[0m",
      "\u001b[0;31mNameError\u001b[0m: name 'test_preds' is not defined"
     ]
    }
   ],
   "source": [
    "test_acc = (test_preds == test_outcome).sum()/len(test_outcome)"
   ]
  },
  {
   "cell_type": "code",
   "execution_count": null,
   "metadata": {
    "collapsed": true
   },
   "outputs": [],
   "source": []
  },
  {
   "cell_type": "code",
   "execution_count": null,
   "metadata": {
    "collapsed": true
   },
   "outputs": [],
   "source": []
  },
  {
   "cell_type": "code",
   "execution_count": null,
   "metadata": {
    "collapsed": true
   },
   "outputs": [],
   "source": []
  }
 ],
 "metadata": {
  "anaconda-cloud": {},
  "kernelspec": {
   "display_name": "Python [conda root]",
   "language": "python",
   "name": "conda-root-py"
  },
  "language_info": {
   "codemirror_mode": {
    "name": "ipython",
    "version": 3
   },
   "file_extension": ".py",
   "mimetype": "text/x-python",
   "name": "python",
   "nbconvert_exporter": "python",
   "pygments_lexer": "ipython3",
   "version": "3.5.2"
  }
 },
 "nbformat": 4,
 "nbformat_minor": 1
}
